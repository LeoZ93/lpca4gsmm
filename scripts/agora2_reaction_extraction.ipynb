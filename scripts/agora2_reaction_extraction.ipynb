{
 "cells": [
  {
   "cell_type": "code",
   "execution_count": 1,
   "id": "4a7a725f-210b-4696-bfb5-d81e38e43ebc",
   "metadata": {
    "tags": []
   },
   "outputs": [],
   "source": [
    "import os\n",
    "import cobra\n",
    "from cobra.io import read_sbml_model\n",
    "import pandas as pd"
   ]
  },
  {
   "cell_type": "code",
   "execution_count": 9,
   "id": "854ecc8c-eeff-4b10-95e3-ebf05055773e",
   "metadata": {
    "tags": []
   },
   "outputs": [],
   "source": [
    "model_folder = '/home/users/lzehetner/data/agora2/www.vmh.life/files/reconstructions/AGORA2/version2.01/sbml_files/'"
   ]
  },
  {
   "cell_type": "code",
   "execution_count": 10,
   "id": "e1937d54-3b8e-4678-a9b5-6548e5b64239",
   "metadata": {
    "tags": []
   },
   "outputs": [],
   "source": [
    "all_reactions = set()\n",
    "\n",
    "# Dictionary to store reaction presence (1 or 0) for each model\n",
    "model_reactions = {}\n",
    "\n",
    "not_validated_models = []"
   ]
  },
  {
   "cell_type": "code",
   "execution_count": 11,
   "id": "a35e3585-2c16-4d02-8948-38b40c0f8fe4",
   "metadata": {
    "tags": []
   },
   "outputs": [],
   "source": [
    "for model_file in os.listdir(model_folder):\n",
    "    if model_file.endswith('.xml'):\n",
    "        model_path = os.path.join(model_folder, model_file)\n",
    "        \n",
    "        try:\n",
    "            # Read the model\n",
    "            model = read_sbml_model(model_path)\n",
    "            \n",
    "            # Extract the model name without the file extension\n",
    "            model_name = model_file[:-4]\n",
    "            \n",
    "            # Initialize a set to store reactions for the current model\n",
    "            reactions_current_model = set()\n",
    "            \n",
    "            # Loop through reactions in the current model\n",
    "            for reaction in model.reactions:\n",
    "                all_reactions.add(reaction.id)\n",
    "                reactions_current_model.add(reaction.id)\n",
    "            \n",
    "            # Store the reactions of the current model in the dictionary\n",
    "            model_reactions[model_name] = reactions_current_model\n",
    "#            print(f\"Successfully read {model_file}\")\n",
    "        except Exception as e:\n",
    "            not_validated_models.append(model_file)\n",
    "#            print(f\"Failed to read {model_file}\")\n"
   ]
  },
  {
   "cell_type": "code",
   "execution_count": 17,
   "id": "aaf35d6c-973a-4d1e-8b33-6834884d1581",
   "metadata": {
    "tags": []
   },
   "outputs": [],
   "source": [
    "df = pd.DataFrame(index=sorted(list(all_reactions)), columns=sorted(model_reactions.keys())).fillna(0)\n",
    "\n",
    "# Fill the DataFrame: 1 if reaction is present in the model, else 0\n",
    "for model_name, reactions in model_reactions.items():\n",
    "    for reaction in reactions:\n",
    "        df.at[reaction, model_name] = 1"
   ]
  },
  {
   "cell_type": "code",
   "execution_count": 19,
   "id": "466d1330-e0e7-460e-8143-c189673e66c7",
   "metadata": {
    "tags": []
   },
   "outputs": [],
   "source": [
    "df.to_csv('/home/users/lzehetner/data/agora2/reactions_presence_matrix.csv')"
   ]
  }
 ],
 "metadata": {
  "kernelspec": {
   "display_name": "cobra_v23",
   "language": "python",
   "name": "cobra_v23"
  },
  "language_info": {
   "codemirror_mode": {
    "name": "ipython",
    "version": 3
   },
   "file_extension": ".py",
   "mimetype": "text/x-python",
   "name": "python",
   "nbconvert_exporter": "python",
   "pygments_lexer": "ipython3",
   "version": "3.10.12"
  }
 },
 "nbformat": 4,
 "nbformat_minor": 5
}

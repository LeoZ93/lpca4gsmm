{
 "cells": [
  {
   "cell_type": "code",
   "execution_count": null,
   "id": "7bdfda2b-c8e5-4c22-acb9-1594c9964e2a",
   "metadata": {},
   "outputs": [],
   "source": [
    "import cobra\n",
    "import pandas as pd\n",
    "import os"
   ]
  },
  {
   "cell_type": "code",
   "execution_count": null,
   "id": "02b6c09c-664f-4714-bded-8036e817b165",
   "metadata": {},
   "outputs": [],
   "source": [
    "# specify the paths according to your specific folders\n",
    "output_all_rxns = '/home/users/lzehetner/data/logPCA/extracted_rxns_per_fungus.csv'\n",
    "output_diff_rxns = '/home/users/lzehetner/data/logPCA/differential_rxns_per_fungus.csv'"
   ]
  },
  {
   "cell_type": "code",
   "execution_count": null,
   "id": "d9a4272c-7801-4f85-8ab1-0f6b26f74bb8",
   "metadata": {},
   "outputs": [],
   "source": [
    "# download models from Biomodels database, unzip them and store them in a folder\n",
    "folder_path = '/home/users/lzehetner/fungi/fungal_models_Lu_2021/fungal_models/'"
   ]
  },
  {
   "cell_type": "code",
   "execution_count": 4,
   "id": "e00e9d0b-b2a0-4e6c-9dbc-1c47b6d217ad",
   "metadata": {
    "tags": []
   },
   "outputs": [],
   "source": [
    "loaded_models = []"
   ]
  },
  {
   "cell_type": "code",
   "execution_count": 5,
   "id": "35d9064e-90b0-4bc5-9e54-a5771c92df63",
   "metadata": {
    "tags": []
   },
   "outputs": [],
   "source": [
    "rxns_df = pd.DataFrame(columns=['rxns', 'subsystems'])"
   ]
  },
  {
   "cell_type": "code",
   "execution_count": 6,
   "id": "606021dc-7434-4744-ac5d-712d5997e1e6",
   "metadata": {
    "tags": []
   },
   "outputs": [],
   "source": [
    "for filename in os.listdir(folder_path):\n",
    "    if filename.endswith('.xml'):  # Ensure the file is an XML file\n",
    "        full_path = os.path.join(folder_path, filename)\n",
    "        model_name = filename[:-4]\n",
    "        try:\n",
    "            model = cobra.io.read_sbml_model(full_path) # Read the model into a COBRA object\n",
    "            model.id = model_name\n",
    "            loaded_models.append(model)  # Add the model to the list\n",
    "            rxn_subsystem_dict = {}\n",
    "    \n",
    "            for reaction in model.reactions:\n",
    "                subsystem = reaction.subsystem if reaction.subsystem else \"None\"  # Use \"None\" if subsystem is empty\n",
    "                rxn_subsystem_dict[reaction.id] = subsystem\n",
    "\n",
    "            # Create a temporary DataFrame for this model\n",
    "            temp_df = pd.DataFrame({\n",
    "#                'model_name': [model_name] * len(rxn_subsystem_dict),\n",
    "                'rxns': list(rxn_subsystem_dict.keys()),\n",
    "                'subsystems': list(rxn_subsystem_dict.values())\n",
    "            })\n",
    "\n",
    "            # Append this temporary DataFrame to the main DataFrame\n",
    "            rxns_df = pd.concat([rxns_df, temp_df], ignore_index=True)\n",
    "\n",
    "#            print(f'Successfully loaded {filename}')\n",
    "        except Exception as e:\n",
    "            print(f'Could not load {filename}: {e}')"
   ]
  },
  {
   "cell_type": "code",
   "execution_count": 7,
   "id": "baa62d50-fb65-42c4-81ba-f98f91589c1b",
   "metadata": {
    "tags": []
   },
   "outputs": [],
   "source": [
    "extracted_rxns_per_fungus = rxns_df.drop_duplicates(subset=['rxns'])"
   ]
  },
  {
   "cell_type": "code",
   "execution_count": null,
   "id": "d856c82b-81ce-4aff-99dc-4fe459b46c03",
   "metadata": {},
   "outputs": [],
   "source": [
    "for model in loaded_models:\n",
    "    mod_rxns = []\n",
    "    for r in model.reactions:\n",
    "        mod_rxns.append(r.id)\n",
    "    extracted_rxns_per_fungus[model.id] = extracted_rxns_per_fungus[\"rxns\"].isin(mod_rxns).astype(int)"
   ]
  },
  {
   "cell_type": "code",
   "execution_count": 12,
   "id": "551b983b-a56c-44b6-976f-36fcad2b12dd",
   "metadata": {
    "tags": []
   },
   "outputs": [],
   "source": [
    "# save pan-gsmm re\n",
    "extracted_rxns_per_fungus.to_csv(output_all_rxns)"
   ]
  },
  {
   "cell_type": "code",
   "execution_count": 156,
   "id": "3a2ad51c-404e-4658-a599-35b16e899e5c",
   "metadata": {
    "tags": []
   },
   "outputs": [],
   "source": [
    "# remove all rows that are present in all gsmms for lpca analysis\n",
    "rows_to_remove = extracted_rxns_per_fungus.iloc[:, 2:].apply(lambda row: row.sum() == 0 or row.sum() == len(loaded_models), axis=1)\n",
    "\n",
    "differential_rxns_per_fungus = extracted_rxns_per_fungus.loc[~rows_to_remove]"
   ]
  },
  {
   "cell_type": "code",
   "execution_count": 158,
   "id": "5ee58550-5332-4a1f-84c9-b509f18b6dcb",
   "metadata": {
    "tags": []
   },
   "outputs": [],
   "source": [
    "# save differential reactions to csv for logpca analysis\n",
    "differential_rxns_per_fungus.to_csv(output_diff_rxns)"
   ]
  }
 ],
 "metadata": {
  "kernelspec": {
   "display_name": "cobra_v23",
   "language": "python",
   "name": "cobra_v23"
  },
  "language_info": {
   "codemirror_mode": {
    "name": "ipython",
    "version": 3
   },
   "file_extension": ".py",
   "mimetype": "text/x-python",
   "name": "python",
   "nbconvert_exporter": "python",
   "pygments_lexer": "ipython3",
   "version": "3.10.12"
  }
 },
 "nbformat": 4,
 "nbformat_minor": 5
}

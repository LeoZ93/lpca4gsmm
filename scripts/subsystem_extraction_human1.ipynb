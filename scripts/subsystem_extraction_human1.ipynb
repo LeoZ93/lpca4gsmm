{
 "cells": [
  {
   "cell_type": "code",
   "execution_count": 1,
   "id": "968205cd-8d16-4110-ad38-45682bc545ab",
   "metadata": {
    "tags": []
   },
   "outputs": [],
   "source": [
    "# script to extract subsystems by reaction from the 'Human1' gsmm"
   ]
  },
  {
   "cell_type": "code",
   "execution_count": null,
   "id": "47583f4c-2b55-4bdd-9153-07ca02e54e37",
   "metadata": {},
   "outputs": [],
   "source": [
    "import cobra\n",
    "import pandas as pd\n",
    "import os"
   ]
  },
  {
   "cell_type": "code",
   "execution_count": null,
   "id": "02ca7f60-2243-4100-a157-6f7a6da00eee",
   "metadata": {},
   "outputs": [],
   "source": [
    "# specify output directory\n",
    "output_directory = '/home/users/lzehetner/data/logPCA/subsystems.csv'\n",
    "\n",
    "# import human1 gsmm\n",
    "mod = cobra.io.read_sbml_model(\"/home/users/lzehetner/data/human1/human1.xml\")\n"
   ]
  },
  {
   "cell_type": "code",
   "execution_count": null,
   "id": "3497fb89-fdb8-4356-a4a5-adee2fe0f37f",
   "metadata": {},
   "outputs": [],
   "source": [
    "# create a dictionary assigning all reactions to subsystems\n",
    "rxn_subsystem_dict = {}\n",
    "    \n",
    "for reaction in mod.reactions:\n",
    "    subsystem = reaction.subsystem if reaction.subsystem else \"None\"  # Use \"None\" if subsystem is empty\n",
    "    rxn_subsystem_dict[reaction.id] = subsystem"
   ]
  },
  {
   "cell_type": "code",
   "execution_count": null,
   "id": "5c0ce80b-6e1d-4b37-b074-fc44ece6d015",
   "metadata": {},
   "outputs": [],
   "source": [
    "# convert the dictionary to a dataframe \n",
    "temp_df = pd.DataFrame({\n",
    "    'rxns': list(rxn_subsystem_dict.keys()),\n",
    "    'subsystems': list(rxn_subsystem_dict.values())\n",
    "})"
   ]
  },
  {
   "cell_type": "code",
   "execution_count": null,
   "id": "61cc05ff-b95b-443c-b3f5-e8b1df84b21d",
   "metadata": {},
   "outputs": [],
   "source": [
    "# save the dataframe\n",
    "temp_df.to_csv(output_directory)"
   ]
  }
 ],
 "metadata": {
  "kernelspec": {
   "display_name": "cobra_v23",
   "language": "python",
   "name": "cobra_v23"
  },
  "language_info": {
   "codemirror_mode": {
    "name": "ipython",
    "version": 3
   },
   "file_extension": ".py",
   "mimetype": "text/x-python",
   "name": "python",
   "nbconvert_exporter": "python",
   "pygments_lexer": "ipython3",
   "version": "3.10.12"
  }
 },
 "nbformat": 4,
 "nbformat_minor": 5
}
